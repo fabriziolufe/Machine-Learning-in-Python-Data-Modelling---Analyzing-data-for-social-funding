{
 "cells": [
  {
   "attachments": {
    "IESEG%20Big.png": {
     "image/png": "[encoded data removed]"
    }
   },
   "cell_type": "markdown",
   "id": "2950df2f",
   "metadata": {},
   "source": [
    "![IESEG%20Big.png](attachment:IESEG%20Big.png)"
   ]
  },
  {
   "cell_type": "markdown",
   "id": "a53f5490",
   "metadata": {},
   "source": [
    "# Group Project Predictive and Descriptive Analytics"
   ]
  },
  {
   "cell_type": "markdown",
   "id": "953398c3",
   "metadata": {},
   "source": [
    "### Import libraries"
   ]
  },
  {
   "cell_type": "code",
   "execution_count": 28,
   "id": "3457f317",
   "metadata": {},
   "outputs": [],
   "source": [
    "import sys\n",
    "\n",
    "import pandas as pd\n",
    "import numpy as np\n",
    "from pandas               import DataFrame\n",
    "from pandas               import read_csv\n",
    "from pandas               import to_numeric\n",
    "from numpy                import array\n",
    "from numpy                import random\n",
    "from sklearn.linear_model import LogisticRegression \n",
    "from sklearn.metrics      import auc\n",
    "from sklearn.metrics      import roc_auc_score\n",
    "from sklearn.cluster      import KMeans\n",
    "from sklearn.cluster      import AgglomerativeClustering\n",
    "from matplotlib           import pyplot\n",
    "from mpl_toolkits.mplot3d import Axes3D \n",
    "from datetime             import datetime\n",
    "from scipy.stats          import pearsonr\n",
    "import import_ipynb\n",
    "from Functions import Creating_Variables,get_weigthed_agg, get_rfm_value, Fixing_Nan, Feature_Engineering, stepwiseRegresion\n",
    "from sklearn.pipeline import Pipeline\n",
    "from sklearn.impute import SimpleImputer\n",
    "from sklearn.preprocessing import MinMaxScaler, OneHotEncoder, PolynomialFeatures\n",
    "from sklearn.compose import ColumnTransformer\n",
    "from sklearn.metrics      import auc\n",
    "from sklearn.metrics      import roc_auc_score\n",
    "from matplotlib           import pyplot\n",
    "import seaborn as sns\n",
    "from sklearn.metrics import plot_confusion_matrix\n",
    "import matplotlib.pyplot as plt\n",
    "\n",
    "from sklearn.tree           import DecisionTreeClassifier\n",
    "from sklearn.ensemble       import RandomForestClassifier\n",
    "from sklearn.ensemble       import GradientBoostingClassifier\n",
    "from sklearn.svm            import SVC\n",
    "from sklearn.neural_network import MLPClassifier\n",
    "from sklearn.neighbors      import KNeighborsClassifier\n",
    "from sklearn.metrics        import accuracy_score\n",
    "from sklearn.metrics        import roc_auc_score\n",
    "from sklearn.model_selection import RepeatedStratifiedKFold, ParameterGrid, GridSearchCV\n",
    "from sklearn.preprocessing import StandardScaler  \n",
    "from datetime import timedelta\n",
    "from ieseg import partition\n",
    "from ieseg import roc\n",
    "from ieseg import cumulativeResponse\n",
    "from ieseg import cumulativeGains\n",
    "from ieseg import lift"
   ]
  },
  {
   "cell_type": "markdown",
   "id": "0367e861",
   "metadata": {},
   "source": [
    "### Read the data"
   ]
  },
  {
   "cell_type": "code",
   "execution_count": 29,
   "id": "58842bcb",
   "metadata": {},
   "outputs": [],
   "source": [
    "file_path = r'C:\\Users\\flucerofernandez\\Documents\\IESEG S01\\DES & PRED Analytics\\Group Project'"
   ]
  },
  {
   "cell_type": "code",
   "execution_count": 30,
   "id": "96936de3",
   "metadata": {},
   "outputs": [],
   "source": [
    "# Import the data\n",
    "\n",
    "campaigns = read_csv(file_path+'/Data/Processed/campaigns_cleaned.csv')\n",
    "\n",
    "donors = read_csv(file_path+'/Data/Processed/donors_cleaned.csv')\n",
    "\n",
    "gifts = read_csv(file_path+'/Data/Processed/gifts_cleaned.csv')\n",
    "\n",
    "select_campaign6169 = read_csv(file_path + '/Data/Processed/camp6169.csv', sep = \";\", decimal = \",\")\n",
    "select_campaign7244 = read_csv(file_path + '/Data/Processed/camp7274.csv', sep = \";\", decimal = \",\")"
   ]
  },
  {
   "cell_type": "code",
   "execution_count": 31,
   "id": "86e14cd5",
   "metadata": {},
   "outputs": [
    {
     "name": "stdout",
     "output_type": "stream",
     "text": [
      "<class 'pandas.core.frame.DataFrame'>\n",
      "RangeIndex: 367 entries, 0 to 366\n",
      "Data columns (total 4 columns):\n",
      " #   Column       Non-Null Count  Dtype  \n",
      "---  ------       --------------  -----  \n",
      " 0   campaignID   367 non-null    int64  \n",
      " 1   date         367 non-null    object \n",
      " 2   lettersSent  367 non-null    int64  \n",
      " 3   CostUnit     367 non-null    float64\n",
      "dtypes: float64(1), int64(2), object(1)\n",
      "memory usage: 11.6+ KB\n",
      "<class 'pandas.core.frame.DataFrame'>\n",
      "RangeIndex: 44865 entries, 0 to 44864\n",
      "Data columns (total 11 columns):\n",
      " #   Column                       Non-Null Count  Dtype \n",
      "---  ------                       --------------  ----- \n",
      " 0   donorID                      44865 non-null  int64 \n",
      " 1   zipcode                      44865 non-null  int64 \n",
      " 2   dateOfBirth                  44865 non-null  object\n",
      " 3   Gender                       44865 non-null  int64 \n",
      " 4   Language is__FR              44865 non-null  int64 \n",
      " 5   Language is__NL              44865 non-null  int64 \n",
      " 6   Income range is__>= 30k      44865 non-null  int64 \n",
      " 7   Income range is__[10k, 15k)  44865 non-null  int64 \n",
      " 8   Income range is__[15k, 20k)  44865 non-null  int64 \n",
      " 9   Income range is__[20k, 25k)  44865 non-null  int64 \n",
      " 10  Income range is__[25k, 30k)  44865 non-null  int64 \n",
      "dtypes: int64(10), object(1)\n",
      "memory usage: 3.8+ MB\n",
      "<class 'pandas.core.frame.DataFrame'>\n",
      "RangeIndex: 216594 entries, 0 to 216593\n",
      "Data columns (total 4 columns):\n",
      " #   Column      Non-Null Count   Dtype  \n",
      "---  ------      --------------   -----  \n",
      " 0   donorID     216594 non-null  int64  \n",
      " 1   campaignID  200957 non-null  float64\n",
      " 2   amount      216594 non-null  float64\n",
      " 3   date        216594 non-null  object \n",
      "dtypes: float64(2), int64(1), object(1)\n",
      "memory usage: 6.6+ MB\n"
     ]
    }
   ],
   "source": [
    "campaigns.info()\n",
    "donors.info()\n",
    "gifts.info()"
   ]
  },
  {
   "cell_type": "code",
   "execution_count": 32,
   "id": "f319f161",
   "metadata": {},
   "outputs": [
    {
     "name": "stdout",
     "output_type": "stream",
     "text": [
      "TRAINING ---------------------------------------------------\n",
      "Target variable created succesfully, you are awesome!\n",
      "dates filtered succesfully, you are awesome\n",
      "start_date of analysis:  2013-09-05 00:00:00\n",
      "final date of analysis:  2018-09-04 00:00:00\n",
      "Amount of donors that have donated in total more than 50,000EU (in 5 years):  0\n",
      "Number of donors:  20011\n",
      "year of the campaign:  2018\n",
      "variable creation DONE\n",
      "TEST -------------------------------------------------------\n",
      "Target variable created succesfully, you are awesome!\n",
      "dates filtered succesfully, you are awesome\n",
      "start_date of analysis:  2014-06-19 00:00:00\n",
      "final date of analysis:  2019-06-18 00:00:00\n",
      "Amount of donors that have donated in total more than 50,000EU (in 5 years):  0\n",
      "Number of donors:  18927\n",
      "year of the campaign:  2019\n",
      "variable creation DONE\n"
     ]
    }
   ],
   "source": [
    "#CREATING TRAIN AND TEST SETS.\n",
    "print(\"TRAINING ---------------------------------------------------\")\n",
    "trainSet=Creating_Variables(6169,gifts,donors, select_campaign6169,'2018-09-04')\n",
    "print(\"TEST -------------------------------------------------------\")\n",
    "testSet=Creating_Variables(7244, gifts, donors, select_campaign7244,'2019-06-18')"
   ]
  },
  {
   "cell_type": "markdown",
   "id": "afb7f8f6",
   "metadata": {},
   "source": [
    "## Fixing variables with Nan (not in the database before)"
   ]
  },
  {
   "cell_type": "markdown",
   "id": "efb853cb",
   "metadata": {},
   "source": [
    "## Draft Modelling"
   ]
  },
  {
   "cell_type": "code",
   "execution_count": 33,
   "id": "5fc2f9d8",
   "metadata": {},
   "outputs": [
    {
     "name": "stdout",
     "output_type": "stream",
     "text": [
      "TRAINING ---------------------------------------------------\n",
      "before filter:  34888\n",
      "after filter:  34874\n",
      "TEST -------------------------------------------------------\n",
      "before filter:  25645\n",
      "after filter:  25645\n"
     ]
    },
    {
     "name": "stderr",
     "output_type": "stream",
     "text": [
      "<string>:161: SettingWithCopyWarning: \n",
      "A value is trying to be set on a copy of a slice from a DataFrame.\n",
      "Try using .loc[row_indexer,col_indexer] = value instead\n",
      "\n",
      "See the caveats in the documentation: https://pandas.pydata.org/pandas-docs/stable/user_guide/indexing.html#returning-a-view-versus-a-copy\n"
     ]
    }
   ],
   "source": [
    "#FIXING TRAIN AND TEST SETS.\n",
    "print(\"TRAINING ---------------------------------------------------\")\n",
    "trainSet=Fixing_Nan(trainSet,donors)\n",
    "print(\"TEST -------------------------------------------------------\")\n",
    "testSet=Fixing_Nan(testSet,donors)"
   ]
  },
  {
   "cell_type": "markdown",
   "id": "ce5a0ca9",
   "metadata": {},
   "source": [
    "## Check for relevant features"
   ]
  },
  {
   "cell_type": "code",
   "execution_count": 34,
   "id": "b79eb6a6",
   "metadata": {},
   "outputs": [
    {
     "name": "stdout",
     "output_type": "stream",
     "text": [
      "Column Name :  donorID ///Correlation and P value:  (-0.0009628513243105405, 0.8573079715735801)\n",
      "Column Name :  total_amount ///Correlation and P value:  (0.02577155097926579, 1.4841640249117747e-06)\n",
      "Column Name :  LOR ///Correlation and P value:  (0.01545842157250656, 0.003891016851038483)\n",
      "Column Name :  days_since_last_donation ///Correlation and P value:  (0.033945741556025026, 2.2853761051648932e-10)\n",
      "Column Name :  nbr_gifts ///Correlation and P value:  (0.009883390644511197, 0.06494147634123035)\n",
      "Column Name :  weighted_rfm_scores ///Correlation and P value:  (0.03972682433331039, 1.158171101169204e-13)\n",
      "Column Name :  nbr_campaign_donation ///Correlation and P value:  (0.051896170470769123, 3.087345518206002e-22)\n",
      "Column Name :  avg_amount_per_campaign ///Correlation and P value:  (-0.001069792813373741, 0.841658721808956)\n",
      "Column Name :  avg_donation ///Correlation and P value:  (-0.001039080284676768, 0.8461469159307698)\n",
      "Column Name :  zipcode ///Correlation and P value:  (-0.016360525747844232, 0.002247944966874749)\n",
      "Column Name :  Gender ///Correlation and P value:  (-0.11292844700324361, 2.4369863639635847e-99)\n",
      "Column Name :  Language is__FR ///Correlation and P value:  (-0.016022830572397083, 0.002769009008154821)\n",
      "Column Name :  Language is__NL ///Correlation and P value:  (-0.03251908602789654, 1.2461359891032834e-09)\n",
      "Column Name :  Income range is__>= 30k ///Correlation and P value:  (-0.008582569790022278, 0.10899404092034737)\n",
      "Column Name :  Income range is__[10k, 15k) ///Correlation and P value:  (-0.010340868342415523, 0.05347114323352864)\n",
      "Column Name :  Income range is__[15k, 20k) ///Correlation and P value:  (-0.00888528337871804, 0.09706285303841229)\n",
      "Column Name :  Income range is__[20k, 25k) ///Correlation and P value:  (-0.018732996746109024, 0.0004679000388904128)\n",
      "Column Name :  Income range is__[25k, 30k) ///Correlation and P value:  (0.0036466679240236876, 0.4958855165943631)\n",
      "Column Name :  age ///Correlation and P value:  (0.021713081311752667, 5.0100043597019344e-05)\n",
      "Column Name :  age_dummy_30 ///Correlation and P value:  (-0.01474324563041418, 0.005899953901989233)\n",
      "Column Name :  not_donated_in_the_past ///Correlation and P value:  (-0.03228515500547286, 1.6348003194807202e-09)\n",
      "Use this variable:  total_amount\n",
      "Use this variable:  days_since_last_donation\n",
      "Use this variable:  weighted_rfm_scores\n",
      "Use this variable:  nbr_campaign_donation\n",
      "Use this variable:  Gender\n",
      "Use this variable:  Language is__NL\n",
      "Use this variable:  Income range is__[20k, 25k)\n",
      "Use this variable:  age\n",
      "Use this variable:  not_donated_in_the_past\n",
      "Standardizing the following variables:  ['total_amount', 'days_since_last_donation', 'weighted_rfm_scores', 'nbr_campaign_donation', 'Gender', 'Language is__NL', 'Income range is__[20k, 25k)', 'age', 'not_donated_in_the_past']\n",
      "standarization FINISHED SUCCESFULLY\n"
     ]
    }
   ],
   "source": [
    "#Feature engineering with the train dataset.\n",
    "process=Feature_Engineering(trainSet,testSet)\n",
    "trainSet_transformed=process[0]\n",
    "testSet_transformed=process[1]"
   ]
  },
  {
   "cell_type": "markdown",
   "id": "82cff0de",
   "metadata": {},
   "source": [
    "## Features and Target in TRAIN data"
   ]
  },
  {
   "cell_type": "code",
   "execution_count": 35,
   "id": "59c8c174",
   "metadata": {},
   "outputs": [],
   "source": [
    "#FEATURES\n",
    "features_train=trainSet_transformed.drop(['donated','donorID'],axis=1)\n",
    "features_test=testSet_transformed.drop(['donated','donorID'],axis=1)\n",
    "#TARGET\n",
    "target_train=trainSet_transformed['donated']\n",
    "target_test=testSet_transformed['donated']"
   ]
  },
  {
   "cell_type": "code",
   "execution_count": 1208,
   "id": "868172e4",
   "metadata": {},
   "outputs": [
    {
     "data": {
      "text/html": [
       "<div>\n",
       "<style scoped>\n",
       "    .dataframe tbody tr th:only-of-type {\n",
       "        vertical-align: middle;\n",
       "    }\n",
       "\n",
       "    .dataframe tbody tr th {\n",
       "        vertical-align: top;\n",
       "    }\n",
       "\n",
       "    .dataframe thead th {\n",
       "        text-align: right;\n",
       "    }\n",
       "</style>\n",
       "<table border=\"1\" class=\"dataframe\">\n",
       "  <thead>\n",
       "    <tr style=\"text-align: right;\">\n",
       "      <th></th>\n",
       "      <th>tree</th>\n",
       "      <th>logistic</th>\n",
       "      <th>randomForest</th>\n",
       "      <th>boostedTree</th>\n",
       "      <th>svm</th>\n",
       "      <th>neuralNet</th>\n",
       "      <th>neighbors</th>\n",
       "    </tr>\n",
       "  </thead>\n",
       "  <tbody>\n",
       "    <tr>\n",
       "      <th>Accuracy Train</th>\n",
       "      <td>0.998796</td>\n",
       "      <td>0.966250</td>\n",
       "      <td>0.998738</td>\n",
       "      <td>0.972300</td>\n",
       "      <td>0.966250</td>\n",
       "      <td>0.966250</td>\n",
       "      <td>0.966881</td>\n",
       "    </tr>\n",
       "    <tr>\n",
       "      <th>Accuracy Test</th>\n",
       "      <td>0.955469</td>\n",
       "      <td>0.985923</td>\n",
       "      <td>0.985455</td>\n",
       "      <td>0.985650</td>\n",
       "      <td>0.985923</td>\n",
       "      <td>0.985962</td>\n",
       "      <td>0.985182</td>\n",
       "    </tr>\n",
       "    <tr>\n",
       "      <th>AUC Train</th>\n",
       "      <td>0.999976</td>\n",
       "      <td>0.698754</td>\n",
       "      <td>0.999959</td>\n",
       "      <td>0.842799</td>\n",
       "      <td>0.579657</td>\n",
       "      <td>0.724416</td>\n",
       "      <td>0.949143</td>\n",
       "    </tr>\n",
       "    <tr>\n",
       "      <th>AUC Test</th>\n",
       "      <td>0.536029</td>\n",
       "      <td>0.656563</td>\n",
       "      <td>0.624029</td>\n",
       "      <td>0.677739</td>\n",
       "      <td>0.586974</td>\n",
       "      <td>0.657433</td>\n",
       "      <td>0.544240</td>\n",
       "    </tr>\n",
       "  </tbody>\n",
       "</table>\n",
       "</div>"
      ],
      "text/plain": [
       "                    tree  logistic  randomForest  boostedTree       svm  \\\n",
       "Accuracy Train  0.998796  0.966250      0.998738     0.972300  0.966250   \n",
       "Accuracy Test   0.955469  0.985923      0.985455     0.985650  0.985923   \n",
       "AUC Train       0.999976  0.698754      0.999959     0.842799  0.579657   \n",
       "AUC Test        0.536029  0.656563      0.624029     0.677739  0.586974   \n",
       "\n",
       "                neuralNet  neighbors  \n",
       "Accuracy Train   0.966250   0.966881  \n",
       "Accuracy Test    0.985962   0.985182  \n",
       "AUC Train        0.724416   0.949143  \n",
       "AUC Test         0.657433   0.544240  "
      ]
     },
     "execution_count": 1208,
     "metadata": {},
     "output_type": "execute_result"
    }
   ],
   "source": [
    "## Try several models\n",
    "\n",
    "tree         = DecisionTreeClassifier()\n",
    "logistic     = model\n",
    "randomForest = RandomForestClassifier(n_estimators = 100)\n",
    "boostedTree  = GradientBoostingClassifier()\n",
    "svm          = SVC(gamma = \"scale\", probability = True)\n",
    "neuralNet    = MLPClassifier()\n",
    "neighbors    = KNeighborsClassifier()\n",
    "\n",
    "models = {\"tree\"         :tree,\n",
    "          \"logistic\"     :logistic,\n",
    "          \"randomForest\" :randomForest,\n",
    "          \"boostedTree\"  :boostedTree,\n",
    "          \"svm\"          :svm,\n",
    "          \"neuralNet\"    :neuralNet,\n",
    "          \"neighbors\"    :neighbors\n",
    "         }\n",
    "\n",
    "for model in models:\n",
    "    models[model].fit(features_train,target_train)\n",
    "    print(f\"{model} has been trained successfully\")\n",
    "\n",
    "performances = {}\n",
    "\n",
    "for model in models:\n",
    "    predictions_train   = models[model].predict(features_train)\n",
    "    predictions_test   = models[model].predict(features_test)\n",
    "    probabilities_train = DataFrame(models[model].predict_proba(features_train))[1]\n",
    "    probabilities_test = DataFrame(models[model].predict_proba(features_test))[1]\n",
    "    accuracy_train = accuracy_score(target_train,predictions_train)\n",
    "    accuracy_test  = accuracy_score(target_test,predictions_test)\n",
    "    auc_train = roc_auc_score(array(target_train),array(probabilities_train))\n",
    "    auc_test  = roc_auc_score(array(target_test),array(probabilities_test))\n",
    "    \n",
    "    performances[model] = {\"Accuracy Train\":accuracy_train,\"Accuracy Test\":accuracy_test,\n",
    "                           \"AUC Train\":auc_train, \"AUC Test\":auc_test}\n",
    "\n",
    "DataFrame(performances)"
   ]
  },
  {
   "cell_type": "code",
   "execution_count": null,
   "id": "2b301bbf",
   "metadata": {},
   "outputs": [],
   "source": [
    "#WITH LOGISTIC REGRESSION\n",
    "from sklearn.model_selection import RepeatedStratifiedKFold, ParameterGrid, GridSearchCV\n",
    "\n",
    " \n",
    "\n",
    "modelLR= LogisticRegression(multi_class='auto')\n",
    "solvers = ['newton-cg', 'lbfgs', 'liblinear']\n",
    "c_values = [100, 10, 1.0, 0.1, 0.01]\n",
    "# define grid search\n",
    "grid = dict(solver=solvers,C=c_values)\n",
    "cv = RepeatedStratifiedKFold(n_splits=10, n_repeats=3, random_state=123)\n",
    "grid_search = GridSearchCV(estimator=modelLR, param_grid=grid, n_jobs=-1, cv=cv, scoring='accuracy',error_score=0)\n",
    "logistic_grid = grid_search.fit(features_train, target_train)\n",
    "#Parameters\n",
    "model= logistic_grid.best_estimator_\n",
    "print('Model chosen:',model)"
   ]
  },
  {
   "cell_type": "code",
   "execution_count": 36,
   "id": "fad0c95b",
   "metadata": {},
   "outputs": [],
   "source": [
    "model=LogisticRegression(solver='lbfgs')"
   ]
  },
  {
   "cell_type": "code",
   "execution_count": 38,
   "id": "05ba0243",
   "metadata": {},
   "outputs": [
    {
     "name": "stdout",
     "output_type": "stream",
     "text": [
      "step 1\n",
      "step 2\n",
      "step 3\n",
      "step 4\n",
      "step 5\n",
      "step 6\n",
      "step 7\n",
      "step 8\n",
      "step 9\n"
     ]
    }
   ],
   "source": [
    "#SELECT VARIABLES WITH STEPWISE REGRESSION\n",
    "forwardSelection = stepwiseRegresion(model, trainingSet = trainSet_transformed,\n",
    "                                     testSet   = testSet_transformed,\n",
    "                                     selectedFeatures = process[2],\n",
    "                                      target = 'donated')"
   ]
  },
  {
   "cell_type": "code",
   "execution_count": 39,
   "id": "8bd1776f",
   "metadata": {},
   "outputs": [
    {
     "data": {
      "text/plain": [
       "0    [nbr_campaign_donation]\n",
       "Name: Features, dtype: object"
      ]
     },
     "execution_count": 39,
     "metadata": {},
     "output_type": "execute_result"
    }
   ],
   "source": [
    "forwardSelection['diff']=(forwardSelection['AUC Train']-forwardSelection['AUC Test'])**2\n",
    "forwardSelection[forwardSelection['diff']==forwardSelection['diff'].min()]['Features']"
   ]
  },
  {
   "cell_type": "markdown",
   "id": "7e2deacf",
   "metadata": {},
   "source": [
    "## Features and Target in TEST data"
   ]
  },
  {
   "cell_type": "markdown",
   "id": "db73580d",
   "metadata": {},
   "source": [
    "## Fit model"
   ]
  },
  {
   "cell_type": "code",
   "execution_count": 40,
   "id": "f400c4af",
   "metadata": {},
   "outputs": [
    {
     "data": {
      "text/plain": [
       "LogisticRegression()"
      ]
     },
     "execution_count": 40,
     "metadata": {},
     "output_type": "execute_result"
    }
   ],
   "source": [
    "model.fit(features_train, target_train)"
   ]
  },
  {
   "cell_type": "code",
   "execution_count": 41,
   "id": "7f4840e0",
   "metadata": {},
   "outputs": [
    {
     "name": "stdout",
     "output_type": "stream",
     "text": [
      "auc training set : 0.7396942268839115\n",
      "auc test set     : 0.6398953579287783\n"
     ]
    },
    {
     "data": {
      "image/png": "[encoded data removed]",
      "text/plain": [
       "<Figure size 432x288 with 1 Axes>"
      ]
     },
     "metadata": {
      "needs_background": "light"
     },
     "output_type": "display_data"
    }
   ],
   "source": [
    "trainSet_transformed[\"proba donated\"] = DataFrame(model.predict_proba(features_train))[1]\n",
    "testSet_transformed[\"proba donated\"] = DataFrame(model.predict_proba(features_test))[1]\n",
    "\n",
    "rocTraining = roc(dataSet = trainSet_transformed, actuals = \"donated\", probability = \"proba donated\")\n",
    "rocTest     = roc(dataSet = testSet_transformed, actuals = \"donated\", probability = \"proba donated\")\n",
    "\n",
    "pyplot.plot(rocTraining[\"False positive rate\"], rocTraining[\"True positive rate\"])\n",
    "pyplot.plot([0, 1], [0, 1], 'k--')\n",
    "pyplot.xlim([0.0, 1.0])\n",
    "pyplot.ylim([0.0, 1.0])\n",
    "pyplot.xlabel(\"False Positive Rate or (1 - Specifity)\")\n",
    "pyplot.ylabel(\"True Positive Rate or (Sensitivity)\")\n",
    "pyplot.title(\"Receiver Operating Characteristic\")\n",
    "\n",
    "pyplot.plot(rocTest[\"False positive rate\"], rocTest[\"True positive rate\"])\n",
    "pyplot.plot([0, 1], [0, 1], 'k--')\n",
    "pyplot.xlim([0.0, 1.0])\n",
    "pyplot.ylim([0.0, 1.0])\n",
    "pyplot.xlabel(\"False Positive Rate or (1 - Specifity)\")\n",
    "pyplot.ylabel(\"True Positive Rate or (Sensitivity)\")\n",
    "pyplot.title(\"Receiver Operating Characteristic\")\n",
    "\n",
    "aucTraining = auc(rocTraining[\"False positive rate\"], rocTraining[\"True positive rate\"])\n",
    "aucTest     = auc(rocTest[\"False positive rate\"], rocTest[\"True positive rate\"])\n",
    "\n",
    "print(f\"auc training set : {aucTraining}\")\n",
    "print(f\"auc test set     : {aucTest}\")"
   ]
  },
  {
   "cell_type": "markdown",
   "id": "87025160",
   "metadata": {},
   "source": [
    "## Lift graph for TRAIN data and TEST data( TEST in orange)"
   ]
  },
  {
   "cell_type": "code",
   "execution_count": 44,
   "id": "cb22ca55",
   "metadata": {},
   "outputs": [
    {
     "name": "stderr",
     "output_type": "stream",
     "text": [
      "C:\\Users\\flucerofernandez\\Documents\\IESEG S01\\DES & PRED Analytics\\Group Project\\Notebooks\\ieseg.py:70: SettingWithCopyWarning: \n",
      "A value is trying to be set on a copy of a slice from a DataFrame.\n",
      "Try using .loc[row_indexer,col_indexer] = value instead\n",
      "\n",
      "See the caveats in the documentation: https://pandas.pydata.org/pandas-docs/stable/user_guide/indexing.html#returning-a-view-versus-a-copy\n",
      "  internalSet[\"Bin\"] = 0\n",
      "C:\\Users\\flucerofernandez\\Documents\\IESEG S01\\DES & PRED Analytics\\Group Project\\Notebooks\\ieseg.py:74: SettingWithCopyWarning: \n",
      "A value is trying to be set on a copy of a slice from a DataFrame.\n",
      "Try using .loc[row_indexer,col_indexer] = value instead\n",
      "\n",
      "See the caveats in the documentation: https://pandas.pydata.org/pandas-docs/stable/user_guide/indexing.html#returning-a-view-versus-a-copy\n",
      "  internalSet.loc[internalSet[byColumn] >= upperBound, byColumn + \"_bin\"] = int(q * into +1)\n",
      "C:\\Users\\flucerofernandez\\Documents\\IESEG S01\\DES & PRED Analytics\\Group Project\\Notebooks\\ieseg.py:31: SettingWithCopyWarning: \n",
      "A value is trying to be set on a copy of a slice from a DataFrame.\n",
      "Try using .loc[row_indexer,col_indexer] = value instead\n",
      "\n",
      "See the caveats in the documentation: https://pandas.pydata.org/pandas-docs/stable/user_guide/indexing.html#returning-a-view-versus-a-copy\n",
      "  internalSet[\"Quantile\"] = internalSet[probability + \"_bin\"] / precision\n",
      "C:\\Users\\flucerofernandez\\Documents\\IESEG S01\\DES & PRED Analytics\\Group Project\\Notebooks\\ieseg.py:32: SettingWithCopyWarning: \n",
      "A value is trying to be set on a copy of a slice from a DataFrame.\n",
      "Try using .loc[row_indexer,col_indexer] = value instead\n",
      "\n",
      "See the caveats in the documentation: https://pandas.pydata.org/pandas-docs/stable/user_guide/indexing.html#returning-a-view-versus-a-copy\n",
      "  internalSet[\"obs\"]      = 1\n",
      "C:\\Users\\flucerofernandez\\Documents\\IESEG S01\\DES & PRED Analytics\\Group Project\\Notebooks\\ieseg.py:70: SettingWithCopyWarning: \n",
      "A value is trying to be set on a copy of a slice from a DataFrame.\n",
      "Try using .loc[row_indexer,col_indexer] = value instead\n",
      "\n",
      "See the caveats in the documentation: https://pandas.pydata.org/pandas-docs/stable/user_guide/indexing.html#returning-a-view-versus-a-copy\n",
      "  internalSet[\"Bin\"] = 0\n",
      "C:\\Users\\flucerofernandez\\Documents\\IESEG S01\\DES & PRED Analytics\\Group Project\\Notebooks\\ieseg.py:74: SettingWithCopyWarning: \n",
      "A value is trying to be set on a copy of a slice from a DataFrame.\n",
      "Try using .loc[row_indexer,col_indexer] = value instead\n",
      "\n",
      "See the caveats in the documentation: https://pandas.pydata.org/pandas-docs/stable/user_guide/indexing.html#returning-a-view-versus-a-copy\n",
      "  internalSet.loc[internalSet[byColumn] >= upperBound, byColumn + \"_bin\"] = int(q * into +1)\n",
      "C:\\Users\\flucerofernandez\\Documents\\IESEG S01\\DES & PRED Analytics\\Group Project\\Notebooks\\ieseg.py:31: SettingWithCopyWarning: \n",
      "A value is trying to be set on a copy of a slice from a DataFrame.\n",
      "Try using .loc[row_indexer,col_indexer] = value instead\n",
      "\n",
      "See the caveats in the documentation: https://pandas.pydata.org/pandas-docs/stable/user_guide/indexing.html#returning-a-view-versus-a-copy\n",
      "  internalSet[\"Quantile\"] = internalSet[probability + \"_bin\"] / precision\n",
      "C:\\Users\\flucerofernandez\\Documents\\IESEG S01\\DES & PRED Analytics\\Group Project\\Notebooks\\ieseg.py:32: SettingWithCopyWarning: \n",
      "A value is trying to be set on a copy of a slice from a DataFrame.\n",
      "Try using .loc[row_indexer,col_indexer] = value instead\n",
      "\n",
      "See the caveats in the documentation: https://pandas.pydata.org/pandas-docs/stable/user_guide/indexing.html#returning-a-view-versus-a-copy\n",
      "  internalSet[\"obs\"]      = 1\n"
     ]
    },
    {
     "data": {
      "text/plain": [
       "[<matplotlib.lines.Line2D at 0x203635b7f40>]"
      ]
     },
     "execution_count": 44,
     "metadata": {},
     "output_type": "execute_result"
    },
    {
     "data": {
      "image/png": "[encoded data removed]",
      "text/plain": [
       "<Figure size 432x288 with 1 Axes>"
      ]
     },
     "metadata": {
      "needs_background": "light"
     },
     "output_type": "display_data"
    }
   ],
   "source": [
    "lift_training = lift(dataSet=trainSet_transformed, actuals='donated', probability='proba donated', precision=20)\n",
    "\n",
    "lift_training.loc[:,'Quantile 2']=1-lift_training.loc[:,'Quantile']\n",
    "\n",
    "pyplot.plot(lift_training.loc[:,'Quantile 2'], lift_training.loc[:,'Lift'])\n",
    "\n",
    "lift_test = lift(dataSet=testSet_transformed, actuals='donated', probability='proba donated', precision=20)\n",
    "\n",
    "lift_test.loc[:,'Quantile 2']=1-lift_test.loc[:,'Quantile']\n",
    "\n",
    "pyplot.plot(lift_test.loc[:,'Quantile 2'], lift_test.loc[:,'Lift'])"
   ]
  },
  {
   "cell_type": "markdown",
   "id": "793fa87d",
   "metadata": {},
   "source": [
    "**FEATURE IMPORTANCE**"
   ]
  },
  {
   "cell_type": "code",
   "execution_count": 45,
   "id": "8f547825",
   "metadata": {},
   "outputs": [
    {
     "data": {
      "image/png": "[encoded data removed]",
      "text/plain": [
       "<Figure size 432x288 with 1 Axes>"
      ]
     },
     "metadata": {
      "needs_background": "light"
     },
     "output_type": "display_data"
    }
   ],
   "source": [
    "coefficients=model.coef_[0]\n",
    "\n",
    "#in order to get both negative and possitives as equal, we transform to the power of 2\n",
    "feat_importances =pd.Series(coefficients, index=features_test.columns)\n",
    "#data=np.power(feat_importances,2)\n",
    "Xtop=feat_importances.index.tolist()\n",
    "#visualization of feature importance\n",
    "feat_importances[Xtop].plot(kind='barh')\n",
    "plt.show()"
   ]
  },
  {
   "cell_type": "code",
   "execution_count": 46,
   "id": "0b621a12",
   "metadata": {},
   "outputs": [
    {
     "name": "stderr",
     "output_type": "stream",
     "text": [
      "C:\\Users\\flucerofernandez\\.conda\\envs\\py\\lib\\site-packages\\sklearn\\utils\\deprecation.py:87: FutureWarning: Function plot_confusion_matrix is deprecated; Function `plot_confusion_matrix` is deprecated in 1.0 and will be removed in 1.2. Use one of the class methods: ConfusionMatrixDisplay.from_predictions or ConfusionMatrixDisplay.from_estimator.\n",
      "  warnings.warn(msg, category=FutureWarning)\n"
     ]
    },
    {
     "data": {
      "image/png": "[encoded data removed]",
      "text/plain": [
       "<Figure size 432x288 with 2 Axes>"
      ]
     },
     "metadata": {
      "needs_background": "light"
     },
     "output_type": "display_data"
    }
   ],
   "source": [
    "plot_confusion_matrix(model, features_test, target_test)  \n",
    "plt.show()"
   ]
  },
  {
   "cell_type": "markdown",
   "id": "054224ba",
   "metadata": {},
   "source": [
    "## Using the 7662 campaign to score donors! (Model Results)"
   ]
  },
  {
   "cell_type": "markdown",
   "id": "12e6af6c",
   "metadata": {},
   "source": [
    "For efficiency purposes the cell of code contains same processes applied for training and validation datasets. "
   ]
  },
  {
   "cell_type": "code",
   "execution_count": 51,
   "id": "47a2f342",
   "metadata": {},
   "outputs": [
    {
     "name": "stdout",
     "output_type": "stream",
     "text": [
      "Target variable created succesfully, you are awesome!\n",
      "dates filtered succesfully, you are awesome\n",
      "start_date of analysis:  2015-02-02 00:00:00\n",
      "final date of analysis:  2020-02-01 00:00:00\n",
      "Amount of donors that have donated in total more than 50,000EU (in 5 years):  0\n",
      "Number of donors:  18094\n",
      "year of the campaign:  2020\n",
      "variable creation DONE\n",
      "before filter:  26522\n",
      "after filter:  26511\n",
      "Column Name :  donorID ///Correlation and P value:  (-0.0009628513243105405, 0.8573079715735801)\n",
      "Column Name :  total_amount ///Correlation and P value:  (0.02577155097926579, 1.4841640249117747e-06)\n",
      "Column Name :  LOR ///Correlation and P value:  (0.01545842157250656, 0.003891016851038483)\n",
      "Column Name :  days_since_last_donation ///Correlation and P value:  (0.033945741556025026, 2.2853761051648932e-10)\n",
      "Column Name :  nbr_gifts ///Correlation and P value:  (0.009883390644511197, 0.06494147634123035)\n",
      "Column Name :  weighted_rfm_scores ///Correlation and P value:  (0.03972682433331039, 1.158171101169204e-13)\n",
      "Column Name :  nbr_campaign_donation ///Correlation and P value:  (0.051896170470769123, 3.087345518206002e-22)\n",
      "Column Name :  avg_amount_per_campaign ///Correlation and P value:  (-0.001069792813373741, 0.841658721808956)\n",
      "Column Name :  avg_donation ///Correlation and P value:  (-0.001039080284676768, 0.8461469159307698)\n",
      "Column Name :  zipcode ///Correlation and P value:  (-0.016360525747844232, 0.002247944966874749)\n",
      "Column Name :  Gender ///Correlation and P value:  (-0.11292844700324361, 2.4369863639635847e-99)\n",
      "Column Name :  Language is__FR ///Correlation and P value:  (-0.016022830572397083, 0.002769009008154821)\n",
      "Column Name :  Language is__NL ///Correlation and P value:  (-0.03251908602789654, 1.2461359891032834e-09)\n",
      "Column Name :  Income range is__>= 30k ///Correlation and P value:  (-0.008582569790022278, 0.10899404092034737)\n",
      "Column Name :  Income range is__[10k, 15k) ///Correlation and P value:  (-0.010340868342415523, 0.05347114323352864)\n",
      "Column Name :  Income range is__[15k, 20k) ///Correlation and P value:  (-0.00888528337871804, 0.09706285303841229)\n",
      "Column Name :  Income range is__[20k, 25k) ///Correlation and P value:  (-0.018732996746109024, 0.0004679000388904128)\n",
      "Column Name :  Income range is__[25k, 30k) ///Correlation and P value:  (0.0036466679240236876, 0.4958855165943631)\n",
      "Column Name :  age ///Correlation and P value:  (0.021713081311752667, 5.0100043597019344e-05)\n",
      "Column Name :  age_dummy_30 ///Correlation and P value:  (-0.01474324563041418, 0.005899953901989233)\n",
      "Column Name :  not_donated_in_the_past ///Correlation and P value:  (-0.03228515500547286, 1.6348003194807202e-09)\n",
      "Use this variable:  total_amount\n",
      "Use this variable:  days_since_last_donation\n",
      "Use this variable:  weighted_rfm_scores\n",
      "Use this variable:  nbr_campaign_donation\n",
      "Use this variable:  Gender\n",
      "Use this variable:  Language is__NL\n",
      "Use this variable:  Income range is__[20k, 25k)\n",
      "Use this variable:  age\n",
      "Use this variable:  not_donated_in_the_past\n",
      "Standardizing the following variables:  ['total_amount', 'days_since_last_donation', 'weighted_rfm_scores', 'nbr_campaign_donation', 'Gender', 'Language is__NL', 'Income range is__[20k, 25k)', 'age', 'not_donated_in_the_past']\n",
      "standarization FINISHED SUCCESFULLY\n"
     ]
    },
    {
     "name": "stderr",
     "output_type": "stream",
     "text": [
      "<string>:161: SettingWithCopyWarning: \n",
      "A value is trying to be set on a copy of a slice from a DataFrame.\n",
      "Try using .loc[row_indexer,col_indexer] = value instead\n",
      "\n",
      "See the caveats in the documentation: https://pandas.pydata.org/pandas-docs/stable/user_guide/indexing.html#returning-a-view-versus-a-copy\n"
     ]
    }
   ],
   "source": [
    "select_campaign7662 = read_csv(file_path + '/Data/Processed/camp7662.csv')\n",
    "select_campaign7662['donorID']=select_campaign7662['donorID'].str[1:].astype(int)\n",
    "\n",
    "ScoreSet=Creating_Variables(7662,gifts,donors, select_campaign7662,'2020-02-01')\n",
    "ScoreSet=Fixing_Nan(ScoreSet,donors)\n",
    "#Feature engineering with the train dataset over the Score dataset as well.\n",
    "ScoreSet_transformed=Feature_Engineering(trainSet,ScoreSet)[1]\n",
    "\n",
    "features_Score=ScoreSet_transformed.drop(['donorID','donated'],axis=1)\n",
    "target_Score=ScoreSet_transformed.donated"
   ]
  },
  {
   "cell_type": "code",
   "execution_count": 52,
   "id": "eeeb7003",
   "metadata": {},
   "outputs": [
    {
     "name": "stdout",
     "output_type": "stream",
     "text": [
      "Probabilities of donating created!\n"
     ]
    }
   ],
   "source": [
    "#PROBABILITIES\n",
    "ScoreSet_transformed[\"proba donated\"] = DataFrame(model.predict_proba(features_Score))[1]\n",
    "print(\"Probabilities of donating created!\")"
   ]
  },
  {
   "cell_type": "code",
   "execution_count": 55,
   "id": "61871e07",
   "metadata": {},
   "outputs": [],
   "source": [
    "#COMPARING RESULTS. \n",
    "trainRESULT=trainSet_transformed.sort_values(by='proba donated',ascending=False)\n",
    "testRESULT=testSet_transformed.sort_values(by='proba donated',ascending=False)\n",
    "scoreRESULT=ScoreSet_transformed.sort_values(by='proba donated',ascending=False)"
   ]
  },
  {
   "cell_type": "code",
   "execution_count": 56,
   "id": "cb4a877e",
   "metadata": {},
   "outputs": [],
   "source": [
    "profit=[]\n",
    "for i in range(0,100,5): \n",
    "    \n",
    "    trainRESULT['will donate']=np.where(trainRESULT['proba donated']>i/100,1,0)\n",
    "    trainRESULT['avg donation']=np.where(trainRESULT['donated']==1,27.6,0)\n",
    "    trainRESULT['cost']=0.87\n",
    "    trainRESULT['profit']=trainRESULT['avg donation']-trainRESULT['cost']\n",
    "    profit.append(trainRESULT[trainRESULT['will donate']==1].profit.sum())"
   ]
  },
  {
   "cell_type": "code",
   "execution_count": 57,
   "id": "c92cd664",
   "metadata": {},
   "outputs": [
    {
     "name": "stdout",
     "output_type": "stream",
     "text": [
      "top  100 % PROFIT:   $ -3982.379999999991 EU\n",
      "top  95 % PROFIT:   $ 6150.959999999999 EU\n",
      "top  90 % PROFIT:   $ 1031.28 EU\n",
      "top  85 % PROFIT:   $ 153.56999999999996 EU\n",
      "top  80 % PROFIT:   $ 58.44000000000002 EU\n",
      "top  75 % PROFIT:   $ 14.55 EU\n",
      "top  70 % PROFIT:   $ -7.83 EU\n",
      "top  65 % PROFIT:   $ -5.22 EU\n",
      "top  60 % PROFIT:   $ -4.35 EU\n",
      "top  55 % PROFIT:   $ -3.48 EU\n",
      "top  50 % PROFIT:   $ -3.48 EU\n",
      "top  45 % PROFIT:   $ -2.61 EU\n",
      "top  40 % PROFIT:   $ -1.74 EU\n",
      "top  35 % PROFIT:   $ -1.74 EU\n",
      "top  30 % PROFIT:   $ -1.74 EU\n",
      "top  25 % PROFIT:   $ -0.87 EU\n",
      "top  20 % PROFIT:   $ -0.87 EU\n",
      "top  15 % PROFIT:   $ -0.87 EU\n",
      "top  10 % PROFIT:   $ -0.87 EU\n",
      "top  5 % PROFIT:   $ -0.87 EU\n"
     ]
    }
   ],
   "source": [
    "for i in range(len(profit)):\n",
    "    print(\"top \",(100-i*5),\"% PROFIT:  \",\"$\",profit[i], \"EU\")"
   ]
  },
  {
   "cell_type": "code",
   "execution_count": 58,
   "id": "6716a714",
   "metadata": {},
   "outputs": [],
   "source": [
    "profit=[]\n",
    "for i in range(0,100,5): \n",
    "    \n",
    "    testRESULT['will donate']=np.where(testRESULT['proba donated']>i/100,1,0)\n",
    "    testRESULT['avg donation']=np.where(testRESULT['donated']==1,27.6,0)\n",
    "    testRESULT['cost']=0.87\n",
    "    testRESULT['profit']=testRESULT['avg donation']-testRESULT['cost']\n",
    "    profit.append(testRESULT[testRESULT['will donate']==1].profit.sum())"
   ]
  },
  {
   "cell_type": "code",
   "execution_count": 59,
   "id": "9c3c6d45",
   "metadata": {},
   "outputs": [
    {
     "name": "stdout",
     "output_type": "stream",
     "text": [
      "top  100 % PROFIT:   $ -16294.349999999991 EU\n",
      "top  95 % PROFIT:   $ -1674.6899999999991 EU\n",
      "top  90 % PROFIT:   $ -193.70999999999998 EU\n",
      "top  85 % PROFIT:   $ -43.739999999999995 EU\n",
      "top  80 % PROFIT:   $ 13.68 EU\n",
      "top  75 % PROFIT:   $ -2.61 EU\n",
      "top  70 % PROFIT:   $ -0.87 EU\n",
      "top  65 % PROFIT:   $ -0.87 EU\n",
      "top  60 % PROFIT:   $ 0.0 EU\n",
      "top  55 % PROFIT:   $ 0.0 EU\n",
      "top  50 % PROFIT:   $ 0.0 EU\n",
      "top  45 % PROFIT:   $ 0.0 EU\n",
      "top  40 % PROFIT:   $ 0.0 EU\n",
      "top  35 % PROFIT:   $ 0.0 EU\n",
      "top  30 % PROFIT:   $ 0.0 EU\n",
      "top  25 % PROFIT:   $ 0.0 EU\n",
      "top  20 % PROFIT:   $ 0.0 EU\n",
      "top  15 % PROFIT:   $ 0.0 EU\n",
      "top  10 % PROFIT:   $ 0.0 EU\n",
      "top  5 % PROFIT:   $ 0.0 EU\n"
     ]
    }
   ],
   "source": [
    "for i in range(len(profit)):\n",
    "    print(\"top \",(100-i*5),\"% PROFIT:  \",\"$\",profit[i], \"EU\")"
   ]
  },
  {
   "cell_type": "code",
   "execution_count": 60,
   "id": "f913c6cc",
   "metadata": {},
   "outputs": [],
   "source": [
    "scoreRESULT['will donate']=np.where(scoreRESULT['proba donated']>5/100,1,0)"
   ]
  },
  {
   "cell_type": "code",
   "execution_count": 63,
   "id": "69a64f42",
   "metadata": {},
   "outputs": [
    {
     "name": "stdout",
     "output_type": "stream",
     "text": [
      "sent cards to donors with more than a 5% chance of donating, TOTAL AMOUNT OF LETTERS TO BE SEND:  4471\n"
     ]
    }
   ],
   "source": [
    "print('sent cards to donors with more than a 5% chance of donating, TOTAL AMOUNT OF LETTERS TO BE SEND: ',scoreRESULT[scoreRESULT['will donate']==1].shape[0])"
   ]
  },
  {
   "cell_type": "code",
   "execution_count": 65,
   "id": "d63a8d1d",
   "metadata": {},
   "outputs": [
    {
     "name": "stdout",
     "output_type": "stream",
     "text": [
      "SCORES FOR the final model\n"
     ]
    },
    {
     "data": {
      "text/html": [
       "<div>\n",
       "<style scoped>\n",
       "    .dataframe tbody tr th:only-of-type {\n",
       "        vertical-align: middle;\n",
       "    }\n",
       "\n",
       "    .dataframe tbody tr th {\n",
       "        vertical-align: top;\n",
       "    }\n",
       "\n",
       "    .dataframe thead th {\n",
       "        text-align: right;\n",
       "    }\n",
       "</style>\n",
       "<table border=\"1\" class=\"dataframe\">\n",
       "  <thead>\n",
       "    <tr style=\"text-align: right;\">\n",
       "      <th></th>\n",
       "      <th>donorID</th>\n",
       "      <th>donated</th>\n",
       "      <th>proba donated</th>\n",
       "    </tr>\n",
       "  </thead>\n",
       "  <tbody>\n",
       "    <tr>\n",
       "      <th>9889</th>\n",
       "      <td>107433</td>\n",
       "      <td>0</td>\n",
       "      <td>0.634231</td>\n",
       "    </tr>\n",
       "    <tr>\n",
       "      <th>10115</th>\n",
       "      <td>107104</td>\n",
       "      <td>0</td>\n",
       "      <td>0.472657</td>\n",
       "    </tr>\n",
       "    <tr>\n",
       "      <th>21046</th>\n",
       "      <td>117952</td>\n",
       "      <td>0</td>\n",
       "      <td>0.397710</td>\n",
       "    </tr>\n",
       "    <tr>\n",
       "      <th>23479</th>\n",
       "      <td>132549</td>\n",
       "      <td>0</td>\n",
       "      <td>0.387859</td>\n",
       "    </tr>\n",
       "    <tr>\n",
       "      <th>6442</th>\n",
       "      <td>105072</td>\n",
       "      <td>0</td>\n",
       "      <td>0.361075</td>\n",
       "    </tr>\n",
       "    <tr>\n",
       "      <th>...</th>\n",
       "      <td>...</td>\n",
       "      <td>...</td>\n",
       "      <td>...</td>\n",
       "    </tr>\n",
       "    <tr>\n",
       "      <th>3479</th>\n",
       "      <td>139766</td>\n",
       "      <td>0</td>\n",
       "      <td>0.050019</td>\n",
       "    </tr>\n",
       "    <tr>\n",
       "      <th>11029</th>\n",
       "      <td>137154</td>\n",
       "      <td>0</td>\n",
       "      <td>0.050015</td>\n",
       "    </tr>\n",
       "    <tr>\n",
       "      <th>10536</th>\n",
       "      <td>123187</td>\n",
       "      <td>0</td>\n",
       "      <td>0.050006</td>\n",
       "    </tr>\n",
       "    <tr>\n",
       "      <th>20287</th>\n",
       "      <td>107904</td>\n",
       "      <td>0</td>\n",
       "      <td>0.050006</td>\n",
       "    </tr>\n",
       "    <tr>\n",
       "      <th>10968</th>\n",
       "      <td>113783</td>\n",
       "      <td>0</td>\n",
       "      <td>0.050006</td>\n",
       "    </tr>\n",
       "  </tbody>\n",
       "</table>\n",
       "<p>4471 rows × 3 columns</p>\n",
       "</div>"
      ],
      "text/plain": [
       "       donorID  donated  proba donated\n",
       "9889    107433        0       0.634231\n",
       "10115   107104        0       0.472657\n",
       "21046   117952        0       0.397710\n",
       "23479   132549        0       0.387859\n",
       "6442    105072        0       0.361075\n",
       "...        ...      ...            ...\n",
       "3479    139766        0       0.050019\n",
       "11029   137154        0       0.050015\n",
       "10536   123187        0       0.050006\n",
       "20287   107904        0       0.050006\n",
       "10968   113783        0       0.050006\n",
       "\n",
       "[4471 rows x 3 columns]"
      ]
     },
     "execution_count": 65,
     "metadata": {},
     "output_type": "execute_result"
    }
   ],
   "source": [
    "print(\"SCORES FOR the final model\")\n",
    "RESULTS=scoreRESULT[scoreRESULT['will donate']==1]\n",
    "RESULTS[['donorID','donated','proba donated']]"
   ]
  },
  {
   "cell_type": "code",
   "execution_count": 67,
   "id": "07ec6029",
   "metadata": {},
   "outputs": [],
   "source": [
    "RESULTS[['donorID','donated','proba donated']].to_csv(file_path+'/Data/Processed/FINAL_RESULTS_SCORE.csv',index=False)"
   ]
  }
 ],
 "metadata": {
  "celltoolbar": "Format de la Cellule Texte Brut",
  "kernelspec": {
   "display_name": "Python 3 (ipykernel)",
   "language": "python",
   "name": "python3"
  },
  "language_info": {
   "codemirror_mode": {
    "name": "ipython",
    "version": 3
   },
   "file_extension": ".py",
   "mimetype": "text/x-python",
   "name": "python",
   "nbconvert_exporter": "python",
   "pygments_lexer": "ipython3",
   "version": "3.8.13"
  }
 },
 "nbformat": 4,
 "nbformat_minor": 5
}

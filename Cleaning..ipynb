{
 "cells": [
  {
   "attachments": {
    "IESEG.png": {
     "image/png": "[encoded data removed]"
    }
   },
   "cell_type": "markdown",
   "id": "8eaa1d73",
   "metadata": {},
   "source": [
    "![IESEG.png](attachment:IESEG.png)"
   ]
  },
  {
   "cell_type": "markdown",
   "id": "7e7396af",
   "metadata": {},
   "source": [
    "<font size=\"5.5\">**1. Project Definition**</font>"
   ]
  },
  {
   "attachments": {
    "imagepython.jfif": {
     "image/jpeg": "[encoded data removed]"
    }
   },
   "cell_type": "markdown",
   "id": "60b2bb34",
   "metadata": {},
   "source": [
    "<div style=\"text-align: justify\"> DSC is an organization that helps non-profit organizations to find donors\n",
    "for their good causes.They have a huge database with candidate donors.\n",
    "DSC now wants to launch a new re-activation campaign where they want to send\n",
    "letters to donors that have been inactive for a long time,hoping that they \n",
    "will donate again. The CEO & Head of Data Analytics (conveniently, this is the\n",
    "same person for this exercise) have to be convinced that your model is\n",
    "better than just randomly selecting donors.\n",
    "\n",
    "DSC is mostly interested in customers that have donated €30 or more, but you can be\n",
    "flexible in this decision, depending on your business case </div>\n",
    "\n",
    "For this project we have 3 main datasets: \n",
    "<br>\n",
    ">**1. Gifts**: Contains a complete history of all donations made over a\n",
    "20 year period\n",
    "<br>\n",
    ">**2. Donors**:Contains socio-demographic information on all donors that\n",
    "made at least one donation via DSC\n",
    "<br>\n",
    ">**3. Campaigns**:Contains details of all campaigns launched by DSC since\n",
    "2004.\n",
    "*\n",
    "\n",
    "For this project our objecticve is to build a predictive model to select the best candidates for a fundraising campaign ( using as example campaigns No. 6169 ( Launched on 04/09/2018 )and 7244 (Launched on 18/06/2019). \n",
    "\n",
    "**We must create a model that is more efficient than a random selection**\n",
    "\n",
    "\n",
    "![imagepython.jfif](attachment:imagepython.jfif)"
   ]
  },
  {
   "cell_type": "markdown",
   "id": "bf6167c3",
   "metadata": {},
   "source": [
    "<font size=\"5.5\">**2. Data Preparation**</font>"
   ]
  },
  {
   "cell_type": "markdown",
   "id": "8a02f7af",
   "metadata": {},
   "source": [
    "**LIBRARIES**"
   ]
  },
  {
   "cell_type": "code",
   "execution_count": 1,
   "id": "347aac67",
   "metadata": {},
   "outputs": [
    {
     "name": "stdout",
     "output_type": "stream",
     "text": [
      "importing Jupyter notebook from functions.ipynb\n"
     ]
    }
   ],
   "source": [
    "import pandas as pd\n",
    "import import_ipynb\n",
    "import seaborn as sns\n",
    "from collections import Counter\n",
    "from functions import my_mode\n",
    "import random\n",
    "import numpy as np"
   ]
  },
  {
   "cell_type": "markdown",
   "id": "a1e877e5",
   "metadata": {},
   "source": [
    "**2.1 Cleaning `campaigns`table**"
   ]
  },
  {
   "cell_type": "code",
   "execution_count": 2,
   "id": "72a3fd75",
   "metadata": {},
   "outputs": [
    {
     "name": "stdout",
     "output_type": "stream",
     "text": [
      "<class 'pandas.core.frame.DataFrame'>\n",
      "RangeIndex: 367 entries, 0 to 366\n",
      "Data columns (total 4 columns):\n",
      " #   Column       Non-Null Count  Dtype \n",
      "---  ------       --------------  ----- \n",
      " 0   campaignID   367 non-null    int64 \n",
      " 1   date         367 non-null    object\n",
      " 2   lettersSent  367 non-null    object\n",
      " 3   CostUnit     367 non-null    object\n",
      "dtypes: int64(1), object(3)\n",
      "memory usage: 11.6+ KB\n",
      "None\n"
     ]
    },
    {
     "data": {
      "text/html": [
       "<div>\n",
       "<style scoped>\n",
       "    .dataframe tbody tr th:only-of-type {\n",
       "        vertical-align: middle;\n",
       "    }\n",
       "\n",
       "    .dataframe tbody tr th {\n",
       "        vertical-align: top;\n",
       "    }\n",
       "\n",
       "    .dataframe thead th {\n",
       "        text-align: right;\n",
       "    }\n",
       "</style>\n",
       "<table border=\"1\" class=\"dataframe\">\n",
       "  <thead>\n",
       "    <tr style=\"text-align: right;\">\n",
       "      <th></th>\n",
       "      <th>campaignID</th>\n",
       "      <th>date</th>\n",
       "      <th>lettersSent</th>\n",
       "      <th>CostUnit</th>\n",
       "    </tr>\n",
       "  </thead>\n",
       "  <tbody>\n",
       "    <tr>\n",
       "      <th>0</th>\n",
       "      <td>153</td>\n",
       "      <td>13/12/2004</td>\n",
       "      <td>6 873</td>\n",
       "      <td>0,17 €</td>\n",
       "    </tr>\n",
       "    <tr>\n",
       "      <th>1</th>\n",
       "      <td>154</td>\n",
       "      <td>01/01/2005</td>\n",
       "      <td>7 656</td>\n",
       "      <td>0,30 €</td>\n",
       "    </tr>\n",
       "    <tr>\n",
       "      <th>2</th>\n",
       "      <td>180</td>\n",
       "      <td>18/01/2005</td>\n",
       "      <td>9 933</td>\n",
       "      <td>0,20 €</td>\n",
       "    </tr>\n",
       "    <tr>\n",
       "      <th>3</th>\n",
       "      <td>433</td>\n",
       "      <td>29/01/2005</td>\n",
       "      <td>7 448</td>\n",
       "      <td>0,59 €</td>\n",
       "    </tr>\n",
       "    <tr>\n",
       "      <th>4</th>\n",
       "      <td>476</td>\n",
       "      <td>12/02/2005</td>\n",
       "      <td>6 605</td>\n",
       "      <td>0,51 €</td>\n",
       "    </tr>\n",
       "  </tbody>\n",
       "</table>\n",
       "</div>"
      ],
      "text/plain": [
       "   campaignID        date lettersSent CostUnit\n",
       "0         153  13/12/2004       6 873   0,17 €\n",
       "1         154  01/01/2005       7 656   0,30 €\n",
       "2         180  18/01/2005       9 933   0,20 €\n",
       "3         433  29/01/2005       7 448   0,59 €\n",
       "4         476  12/02/2005       6 605   0,51 €"
      ]
     },
     "execution_count": 2,
     "metadata": {},
     "output_type": "execute_result"
    }
   ],
   "source": [
    "#Reading data from the campaigns dataset.\n",
    "campaigns = pd.read_csv('../data/campaigns.csv', sep=';')\n",
    "print(campaigns.info())\n",
    "campaigns.head()"
   ]
  },
  {
   "cell_type": "code",
   "execution_count": 3,
   "id": "56171439",
   "metadata": {},
   "outputs": [
    {
     "name": "stdout",
     "output_type": "stream",
     "text": [
      "<class 'pandas.core.frame.DataFrame'>\n",
      "RangeIndex: 367 entries, 0 to 366\n",
      "Data columns (total 4 columns):\n",
      " #   Column       Non-Null Count  Dtype         \n",
      "---  ------       --------------  -----         \n",
      " 0   campaignID   367 non-null    int64         \n",
      " 1   date         367 non-null    datetime64[ns]\n",
      " 2   lettersSent  367 non-null    int32         \n",
      " 3   CostUnit     367 non-null    float64       \n",
      "dtypes: datetime64[ns](1), float64(1), int32(1), int64(1)\n",
      "memory usage: 10.2 KB\n",
      "None\n"
     ]
    }
   ],
   "source": [
    "#Convert date into a datetime format\n",
    "campaigns['date']= pd.to_datetime(campaigns['date'], infer_datetime_format=True)\n",
    "\n",
    "#convert lettersSent column into an integer type\n",
    "campaigns['lettersSent']=campaigns['lettersSent'].str.replace('\\u202f', '').astype(int)\n",
    "\n",
    "#convert CostUnit into a float type\n",
    "campaigns['CostUnit'] = campaigns['CostUnit'].str.replace('\\xa0€', '').str.replace(',', '.').astype(float)\n",
    "\n",
    "\n",
    "print(campaigns.info())"
   ]
  },
  {
   "cell_type": "code",
   "execution_count": 17,
   "id": "afe65987",
   "metadata": {},
   "outputs": [],
   "source": [
    "campaigns.to_csv(\"../Data/Processed/campaigns_cleaned.csv\", index=False)"
   ]
  },
  {
   "cell_type": "markdown",
   "id": "428515d9",
   "metadata": {},
   "source": [
    "**2.2 Cleaning `donors` table**"
   ]
  },
  {
   "cell_type": "code",
   "execution_count": 49,
   "id": "4bfbfa3b",
   "metadata": {},
   "outputs": [
    {
     "name": "stdout",
     "output_type": "stream",
     "text": [
      "<class 'pandas.core.frame.DataFrame'>\n",
      "RangeIndex: 44691 entries, 0 to 44690\n",
      "Data columns (total 7 columns):\n",
      " #   Column       Non-Null Count  Dtype  \n",
      "---  ------       --------------  -----  \n",
      " 0   donorID      44691 non-null  int64  \n",
      " 1   zipcode      44689 non-null  float64\n",
      " 2   province     44691 non-null  object \n",
      " 3   region       44691 non-null  object \n",
      " 4   gender       44659 non-null  object \n",
      " 5   language     44691 non-null  object \n",
      " 6   dateOfBirth  44691 non-null  object \n",
      "dtypes: float64(1), int64(1), object(5)\n",
      "memory usage: 2.4+ MB\n",
      "None\n"
     ]
    },
    {
     "data": {
      "text/html": [
       "<div>\n",
       "<style scoped>\n",
       "    .dataframe tbody tr th:only-of-type {\n",
       "        vertical-align: middle;\n",
       "    }\n",
       "\n",
       "    .dataframe tbody tr th {\n",
       "        vertical-align: top;\n",
       "    }\n",
       "\n",
       "    .dataframe thead th {\n",
       "        text-align: right;\n",
       "    }\n",
       "</style>\n",
       "<table border=\"1\" class=\"dataframe\">\n",
       "  <thead>\n",
       "    <tr style=\"text-align: right;\">\n",
       "      <th></th>\n",
       "      <th>donorID</th>\n",
       "      <th>zipcode</th>\n",
       "      <th>province</th>\n",
       "      <th>region</th>\n",
       "      <th>gender</th>\n",
       "      <th>language</th>\n",
       "      <th>dateOfBirth</th>\n",
       "    </tr>\n",
       "  </thead>\n",
       "  <tbody>\n",
       "    <tr>\n",
       "      <th>0</th>\n",
       "      <td>100001</td>\n",
       "      <td>1861.0</td>\n",
       "      <td>Flemish Brabant</td>\n",
       "      <td>Flanders</td>\n",
       "      <td>F</td>\n",
       "      <td>NL</td>\n",
       "      <td>12/24/1967</td>\n",
       "    </tr>\n",
       "    <tr>\n",
       "      <th>1</th>\n",
       "      <td>100002</td>\n",
       "      <td>2260.0</td>\n",
       "      <td>Antwerp</td>\n",
       "      <td>Flanders</td>\n",
       "      <td>M</td>\n",
       "      <td>NL</td>\n",
       "      <td>01/14/1952</td>\n",
       "    </tr>\n",
       "    <tr>\n",
       "      <th>2</th>\n",
       "      <td>100003</td>\n",
       "      <td>1780.0</td>\n",
       "      <td>Flemish Brabant</td>\n",
       "      <td>Flanders</td>\n",
       "      <td>M</td>\n",
       "      <td>NL</td>\n",
       "      <td>12/23/1986</td>\n",
       "    </tr>\n",
       "    <tr>\n",
       "      <th>3</th>\n",
       "      <td>100004</td>\n",
       "      <td>1020.0</td>\n",
       "      <td>Brussels</td>\n",
       "      <td>Brussels</td>\n",
       "      <td>F</td>\n",
       "      <td>FR</td>\n",
       "      <td>03/29/1952</td>\n",
       "    </tr>\n",
       "    <tr>\n",
       "      <th>4</th>\n",
       "      <td>100005</td>\n",
       "      <td>1020.0</td>\n",
       "      <td>Brussels</td>\n",
       "      <td>Brussels</td>\n",
       "      <td>F</td>\n",
       "      <td>FR</td>\n",
       "      <td>06/25/1986</td>\n",
       "    </tr>\n",
       "  </tbody>\n",
       "</table>\n",
       "</div>"
      ],
      "text/plain": [
       "   donorID  zipcode         province    region gender language dateOfBirth\n",
       "0   100001   1861.0  Flemish Brabant  Flanders      F       NL  12/24/1967\n",
       "1   100002   2260.0          Antwerp  Flanders      M       NL  01/14/1952\n",
       "2   100003   1780.0  Flemish Brabant  Flanders      M       NL  12/23/1986\n",
       "3   100004   1020.0         Brussels  Brussels      F       FR  03/29/1952\n",
       "4   100005   1020.0         Brussels  Brussels      F       FR  06/25/1986"
      ]
     },
     "execution_count": 49,
     "metadata": {},
     "output_type": "execute_result"
    }
   ],
   "source": [
    "#Reading data from the donors dataset.\n",
    "donors = pd.read_csv('../Data/Raw/donors.csv').drop('Unnamed: 0',axis=1)\n",
    "print(donors.info())\n",
    "donors.head()"
   ]
  },
  {
   "cell_type": "code",
   "execution_count": 52,
   "id": "ed49d903",
   "metadata": {},
   "outputs": [
    {
     "data": {
      "text/html": [
       "<div>\n",
       "<style scoped>\n",
       "    .dataframe tbody tr th:only-of-type {\n",
       "        vertical-align: middle;\n",
       "    }\n",
       "\n",
       "    .dataframe tbody tr th {\n",
       "        vertical-align: top;\n",
       "    }\n",
       "\n",
       "    .dataframe thead th {\n",
       "        text-align: right;\n",
       "    }\n",
       "</style>\n",
       "<table border=\"1\" class=\"dataframe\">\n",
       "  <thead>\n",
       "    <tr style=\"text-align: right;\">\n",
       "      <th></th>\n",
       "      <th>donorID</th>\n",
       "      <th>zipcode</th>\n",
       "      <th>province</th>\n",
       "      <th>region</th>\n",
       "      <th>gender</th>\n",
       "      <th>language</th>\n",
       "      <th>dateOfBirth</th>\n",
       "    </tr>\n",
       "  </thead>\n",
       "  <tbody>\n",
       "  </tbody>\n",
       "</table>\n",
       "</div>"
      ],
      "text/plain": [
       "Empty DataFrame\n",
       "Columns: [donorID, zipcode, province, region, gender, language, dateOfBirth]\n",
       "Index: []"
      ]
     },
     "execution_count": 52,
     "metadata": {},
     "output_type": "execute_result"
    }
   ],
   "source": [
    "donors[donors['donorID']==265584]"
   ]
  },
  {
   "cell_type": "code",
   "execution_count": 42,
   "id": "d1476957",
   "metadata": {},
   "outputs": [
    {
     "data": {
      "text/html": [
       "<div>\n",
       "<style scoped>\n",
       "    .dataframe tbody tr th:only-of-type {\n",
       "        vertical-align: middle;\n",
       "    }\n",
       "\n",
       "    .dataframe tbody tr th {\n",
       "        vertical-align: top;\n",
       "    }\n",
       "\n",
       "    .dataframe thead th {\n",
       "        text-align: right;\n",
       "    }\n",
       "</style>\n",
       "<table border=\"1\" class=\"dataframe\">\n",
       "  <thead>\n",
       "    <tr style=\"text-align: right;\">\n",
       "      <th></th>\n",
       "      <th>donorID</th>\n",
       "      <th>zipcode</th>\n",
       "      <th>province</th>\n",
       "      <th>region</th>\n",
       "      <th>gender</th>\n",
       "      <th>language</th>\n",
       "      <th>dateOfBirth</th>\n",
       "    </tr>\n",
       "  </thead>\n",
       "  <tbody>\n",
       "    <tr>\n",
       "      <th>11591</th>\n",
       "      <td>111592</td>\n",
       "      <td>1050.0</td>\n",
       "      <td>Brussels</td>\n",
       "      <td>Brussels</td>\n",
       "      <td>M</td>\n",
       "      <td>FR</td>\n",
       "      <td>10/16/1970</td>\n",
       "    </tr>\n",
       "  </tbody>\n",
       "</table>\n",
       "</div>"
      ],
      "text/plain": [
       "       donorID  zipcode  province    region gender language dateOfBirth\n",
       "11591   111592   1050.0  Brussels  Brussels      M       FR  10/16/1970"
      ]
     },
     "execution_count": 42,
     "metadata": {},
     "output_type": "execute_result"
    }
   ],
   "source": [
    "donors[donors['donorID']==111592]"
   ]
  },
  {
   "cell_type": "code",
   "execution_count": 47,
   "id": "f36d6155",
   "metadata": {},
   "outputs": [
    {
     "name": "stdout",
     "output_type": "stream",
     "text": [
      "The percentages are very close, best to use a randomizer to fill na's:  M    0.57751\n",
      "F    0.42249\n",
      "Name: gender, dtype: float64\n"
     ]
    }
   ],
   "source": [
    "#checking for the mode of zipcodes ( most repeated value)\n",
    "donors[donors['zipcode'] == my_mode(donors['zipcode'])[0]]\n",
    "\n",
    "#replace Na's in zipcode with mode\n",
    "donors['zipcode'] = donors['zipcode'].fillna(my_mode(donors['zipcode'])[0])\n",
    "\n",
    "donors['zipcode'] = donors['zipcode'].astype(int)\n",
    "\n",
    "\n",
    "#Filling NAs of Gender column with F and M\n",
    "print(\"The percentages are very close, best to use a randomizer to fill na's: \",donors['gender'].value_counts(normalize = True))\n",
    "\n",
    "donors['gender'] = donors['gender'].fillna(random.choice(['F', 'M']))\n",
    "\n",
    "#Convert date into a datetime format\n",
    "donors['dateOfBirth']= pd.to_datetime(donors['dateOfBirth'], infer_datetime_format=True)\n",
    "\n",
    "\n",
    "\n",
    "##ADDING NEW DATA\n",
    "\n",
    "#Income table by region. Retrieved from: https://statbel.fgov.be/en/open-data/fiscal-statistics-income\n",
    "zip_income_BEL = pd.read_excel('../Data/Raw/TF_PSNL_INC_TAX_MUNTY.xlsx')\n",
    "zip_income_BEL = zip_income_BEL[zip_income_BEL['CD_YEAR'] == 2018]\n",
    "\n",
    "#Table connecting zipcode and REFNIS code\n",
    "REFNIS= pd.read_excel('../Data/Raw/Conversion Postal code_Refnis code_va01012019.xlsx')\n",
    "\n",
    "#Merge to obtain the income by zip code.\n",
    "income = pd.merge(zip_income_BEL[['CD_MUNTY_REFNIS', 'MS_TOT_NET_INC','MS_TOT_RESIDENTS']]\n",
    "                  , REFNIS, how = 'left', left_on = 'CD_MUNTY_REFNIS', right_on = 'Refnis code')\n",
    "\n",
    "\n",
    "#Merge with original donors table.\n",
    "donors = pd.merge(donors, income, how = 'left', left_on = 'zipcode', right_on = 'Postal code')\n",
    "\n",
    "#Keep relevant columns\n",
    "donors=donors[['donorID', 'zipcode', 'gender', 'language', 'dateOfBirth', 'MS_TOT_NET_INC','MS_TOT_RESIDENTS']]\n",
    "\n",
    "\n",
    "donors['avg. income'] = donors['MS_TOT_NET_INC']/donors['MS_TOT_RESIDENTS']"
   ]
  },
  {
   "cell_type": "code",
   "execution_count": 32,
   "id": "f7a201df",
   "metadata": {},
   "outputs": [
    {
     "data": {
      "text/plain": [
       "<AxesSubplot:xlabel='avg. income', ylabel='Count'>"
      ]
     },
     "execution_count": 32,
     "metadata": {},
     "output_type": "execute_result"
    },
    {
     "data": {
      "image/png": "[encoded data removed]",
      "text/plain": [
       "<Figure size 432x288 with 1 Axes>"
      ]
     },
     "metadata": {
      "needs_background": "light"
     },
     "output_type": "display_data"
    }
   ],
   "source": [
    "sns.histplot(data = donors, x = 'avg. income', bins = 5)"
   ]
  },
  {
   "cell_type": "code",
   "execution_count": 33,
   "id": "070813bb",
   "metadata": {},
   "outputs": [
    {
     "data": {
      "text/html": [
       "<div>\n",
       "<style scoped>\n",
       "    .dataframe tbody tr th:only-of-type {\n",
       "        vertical-align: middle;\n",
       "    }\n",
       "\n",
       "    .dataframe tbody tr th {\n",
       "        vertical-align: top;\n",
       "    }\n",
       "\n",
       "    .dataframe thead th {\n",
       "        text-align: right;\n",
       "    }\n",
       "</style>\n",
       "<table border=\"1\" class=\"dataframe\">\n",
       "  <thead>\n",
       "    <tr style=\"text-align: right;\">\n",
       "      <th></th>\n",
       "      <th>donorID</th>\n",
       "      <th>zipcode</th>\n",
       "      <th>dateOfBirth</th>\n",
       "      <th>Gender</th>\n",
       "      <th>Language is__FR</th>\n",
       "      <th>Language is__NL</th>\n",
       "      <th>Income range is__&gt;= 30k</th>\n",
       "      <th>Income range is__[10k, 15k)</th>\n",
       "      <th>Income range is__[15k, 20k)</th>\n",
       "      <th>Income range is__[20k, 25k)</th>\n",
       "      <th>Income range is__[25k, 30k)</th>\n",
       "    </tr>\n",
       "  </thead>\n",
       "  <tbody>\n",
       "    <tr>\n",
       "      <th>0</th>\n",
       "      <td>100001</td>\n",
       "      <td>1861</td>\n",
       "      <td>1967-12-24</td>\n",
       "      <td>0</td>\n",
       "      <td>0</td>\n",
       "      <td>1</td>\n",
       "      <td>0</td>\n",
       "      <td>0</td>\n",
       "      <td>0</td>\n",
       "      <td>1</td>\n",
       "      <td>0</td>\n",
       "    </tr>\n",
       "    <tr>\n",
       "      <th>1</th>\n",
       "      <td>100002</td>\n",
       "      <td>2260</td>\n",
       "      <td>1952-01-14</td>\n",
       "      <td>1</td>\n",
       "      <td>0</td>\n",
       "      <td>1</td>\n",
       "      <td>0</td>\n",
       "      <td>0</td>\n",
       "      <td>0</td>\n",
       "      <td>1</td>\n",
       "      <td>0</td>\n",
       "    </tr>\n",
       "    <tr>\n",
       "      <th>2</th>\n",
       "      <td>100003</td>\n",
       "      <td>1780</td>\n",
       "      <td>1986-12-23</td>\n",
       "      <td>1</td>\n",
       "      <td>0</td>\n",
       "      <td>1</td>\n",
       "      <td>0</td>\n",
       "      <td>0</td>\n",
       "      <td>0</td>\n",
       "      <td>1</td>\n",
       "      <td>0</td>\n",
       "    </tr>\n",
       "    <tr>\n",
       "      <th>3</th>\n",
       "      <td>100004</td>\n",
       "      <td>1020</td>\n",
       "      <td>1952-03-29</td>\n",
       "      <td>0</td>\n",
       "      <td>1</td>\n",
       "      <td>0</td>\n",
       "      <td>0</td>\n",
       "      <td>1</td>\n",
       "      <td>0</td>\n",
       "      <td>0</td>\n",
       "      <td>0</td>\n",
       "    </tr>\n",
       "    <tr>\n",
       "      <th>4</th>\n",
       "      <td>100005</td>\n",
       "      <td>1020</td>\n",
       "      <td>1986-06-25</td>\n",
       "      <td>0</td>\n",
       "      <td>1</td>\n",
       "      <td>0</td>\n",
       "      <td>0</td>\n",
       "      <td>1</td>\n",
       "      <td>0</td>\n",
       "      <td>0</td>\n",
       "      <td>0</td>\n",
       "    </tr>\n",
       "  </tbody>\n",
       "</table>\n",
       "</div>"
      ],
      "text/plain": [
       "   donorID  zipcode dateOfBirth  Gender  Language is__FR  Language is__NL  \\\n",
       "0   100001     1861  1967-12-24       0                0                1   \n",
       "1   100002     2260  1952-01-14       1                0                1   \n",
       "2   100003     1780  1986-12-23       1                0                1   \n",
       "3   100004     1020  1952-03-29       0                1                0   \n",
       "4   100005     1020  1986-06-25       0                1                0   \n",
       "\n",
       "   Income range is__>= 30k  Income range is__[10k, 15k)  \\\n",
       "0                        0                            0   \n",
       "1                        0                            0   \n",
       "2                        0                            0   \n",
       "3                        0                            1   \n",
       "4                        0                            1   \n",
       "\n",
       "   Income range is__[15k, 20k)  Income range is__[20k, 25k)  \\\n",
       "0                            0                            1   \n",
       "1                            0                            1   \n",
       "2                            0                            1   \n",
       "3                            0                            0   \n",
       "4                            0                            0   \n",
       "\n",
       "   Income range is__[25k, 30k)  \n",
       "0                            0  \n",
       "1                            0  \n",
       "2                            0  \n",
       "3                            0  \n",
       "4                            0  "
      ]
     },
     "execution_count": 33,
     "metadata": {},
     "output_type": "execute_result"
    }
   ],
   "source": [
    "#Creating the conditionals for income ranges. \n",
    "donors['income range']= np.where(donors['avg. income']< 5000, 'Less than 5.000',\n",
    "                                np.where((donors['avg. income']>= 5000) & (donors['avg. income']< 10000), '[5k, 10k)',\n",
    "                                        np.where((donors['avg. income']>= 10000) & (donors['avg. income']< 15000), '[10k, 15k)',\n",
    "                                                np.where((donors['avg. income']>= 15000) & (donors['avg. income']< 20000), '[15k, 20k)',\n",
    "                                                        np.where((donors['avg. income']>= 20000) & (donors['avg. income']< 25000), '[20k, 25k)',\n",
    "                                                                np.where((donors['avg. income']>= 25000) & (donors['avg. income']< 30000), '[25k, 30k)',\n",
    "                                                                         '>= 30k'))))))\n",
    "\n",
    "#Drop not important columns, after data manipulation\n",
    "donors = donors.drop(['MS_TOT_NET_INC', 'MS_TOT_RESIDENTS', 'avg. income'], axis=1)\n",
    "\n",
    "#creating dummies for modelling\n",
    "donors = donors.join(pd.get_dummies(donors[\"gender\"], drop_first = True)).rename(columns={'M':'Gender'})\n",
    "\n",
    "#Drop not important columns, after data manipulation\n",
    "donors = donors.drop('gender', axis=1)\n",
    "\n",
    "#creating dummies for modelling\n",
    "donors = donors.join(pd.get_dummies(donors[\"language\"], prefix='Language is_', drop_first = True))\n",
    "\n",
    "#Drop not important columns, after data manipulation\n",
    "donors = donors.drop('language',axis=1)\n",
    "\n",
    "#creating dummies for modelling\n",
    "donors = donors.join(pd.get_dummies(donors[\"income range\"], prefix='Income range is_', drop_first = True))\n",
    "\n",
    "#Drop not important columns, after data manipulation\n",
    "donors=donors = donors.drop('income range',axis=1)\n",
    "\n",
    "\n",
    "\n",
    "donors.head()"
   ]
  },
  {
   "cell_type": "code",
   "execution_count": 55,
   "id": "1ae36afc",
   "metadata": {},
   "outputs": [],
   "source": [
    "donors['dateOfBirth']=pd.to_datetime(donors['dateOfBirth'])"
   ]
  },
  {
   "cell_type": "code",
   "execution_count": 58,
   "id": "1a8bebcd",
   "metadata": {},
   "outputs": [
    {
     "data": {
      "text/plain": [
       "27008   1889-06-14\n",
       "27453   1892-08-06\n",
       "27299   1919-08-26\n",
       "18762   1919-09-02\n",
       "26716   1919-10-02\n",
       "           ...    \n",
       "2654    1995-04-09\n",
       "26350   1995-04-09\n",
       "40737   1995-04-09\n",
       "18210   1995-04-09\n",
       "39096   1998-06-12\n",
       "Name: dateOfBirth, Length: 44691, dtype: datetime64[ns]"
      ]
     },
     "execution_count": 58,
     "metadata": {},
     "output_type": "execute_result"
    }
   ],
   "source": [
    "donors['dateOfBirth'].sort_values()"
   ]
  },
  {
   "cell_type": "code",
   "execution_count": 18,
   "id": "dd52fc4c",
   "metadata": {},
   "outputs": [],
   "source": [
    "donors.to_csv(\"../Data/Processed/donors_cleaned.csv\", index=False)"
   ]
  },
  {
   "cell_type": "markdown",
   "id": "fe78d26d",
   "metadata": {},
   "source": [
    "**2.3 Cleaning `gifts` table**"
   ]
  },
  {
   "cell_type": "code",
   "execution_count": 22,
   "id": "234d2fb0",
   "metadata": {},
   "outputs": [
    {
     "name": "stdout",
     "output_type": "stream",
     "text": [
      "<class 'pandas.core.frame.DataFrame'>\n",
      "RangeIndex: 216594 entries, 0 to 216593\n",
      "Data columns (total 4 columns):\n",
      " #   Column      Non-Null Count   Dtype  \n",
      "---  ------      --------------   -----  \n",
      " 0   donorID     216594 non-null  int64  \n",
      " 1   campaignID  200957 non-null  float64\n",
      " 2   amount      216594 non-null  object \n",
      " 3   date        216594 non-null  object \n",
      "dtypes: float64(1), int64(1), object(2)\n",
      "memory usage: 6.6+ MB\n",
      "None\n"
     ]
    },
    {
     "data": {
      "text/html": [
       "<div>\n",
       "<style scoped>\n",
       "    .dataframe tbody tr th:only-of-type {\n",
       "        vertical-align: middle;\n",
       "    }\n",
       "\n",
       "    .dataframe tbody tr th {\n",
       "        vertical-align: top;\n",
       "    }\n",
       "\n",
       "    .dataframe thead th {\n",
       "        text-align: right;\n",
       "    }\n",
       "</style>\n",
       "<table border=\"1\" class=\"dataframe\">\n",
       "  <thead>\n",
       "    <tr style=\"text-align: right;\">\n",
       "      <th></th>\n",
       "      <th>donorID</th>\n",
       "      <th>campaignID</th>\n",
       "      <th>amount</th>\n",
       "      <th>date</th>\n",
       "    </tr>\n",
       "  </thead>\n",
       "  <tbody>\n",
       "    <tr>\n",
       "      <th>0</th>\n",
       "      <td>100001</td>\n",
       "      <td>NaN</td>\n",
       "      <td>12,39</td>\n",
       "      <td>2004-03-23</td>\n",
       "    </tr>\n",
       "    <tr>\n",
       "      <th>1</th>\n",
       "      <td>100001</td>\n",
       "      <td>1577.0</td>\n",
       "      <td>12,39</td>\n",
       "      <td>2007-10-11</td>\n",
       "    </tr>\n",
       "    <tr>\n",
       "      <th>2</th>\n",
       "      <td>100001</td>\n",
       "      <td>1634.0</td>\n",
       "      <td>6,69</td>\n",
       "      <td>2007-12-28</td>\n",
       "    </tr>\n",
       "    <tr>\n",
       "      <th>3</th>\n",
       "      <td>100001</td>\n",
       "      <td>1778.0</td>\n",
       "      <td>24,79</td>\n",
       "      <td>2008-06-14</td>\n",
       "    </tr>\n",
       "    <tr>\n",
       "      <th>4</th>\n",
       "      <td>100001</td>\n",
       "      <td>1808.0</td>\n",
       "      <td>7,44</td>\n",
       "      <td>2008-07-09</td>\n",
       "    </tr>\n",
       "  </tbody>\n",
       "</table>\n",
       "</div>"
      ],
      "text/plain": [
       "   donorID  campaignID amount        date\n",
       "0   100001         NaN  12,39  2004-03-23\n",
       "1   100001      1577.0  12,39  2007-10-11\n",
       "2   100001      1634.0   6,69  2007-12-28\n",
       "3   100001      1778.0  24,79  2008-06-14\n",
       "4   100001      1808.0   7,44  2008-07-09"
      ]
     },
     "execution_count": 22,
     "metadata": {},
     "output_type": "execute_result"
    }
   ],
   "source": [
    "#Reading data from the gifts dataset.\n",
    "gifts = pd.read_csv('../Data/Raw/gifts.csv').drop('Unnamed: 0',axis=1)\n",
    "print(gifts.info())\n",
    "gifts.head()"
   ]
  },
  {
   "cell_type": "code",
   "execution_count": 23,
   "id": "7b5c62ba",
   "metadata": {},
   "outputs": [],
   "source": [
    "#Converting to float\n",
    "gifts['amount'] = gifts['amount'].str.replace(',', '.').astype(float)\n",
    "\n",
    "#Convert date into a datetime format\n",
    "gifts['date']= pd.to_datetime(gifts['date'], infer_datetime_format=True)"
   ]
  },
  {
   "cell_type": "code",
   "execution_count": 24,
   "id": "f4dab8b6",
   "metadata": {},
   "outputs": [],
   "source": [
    "gifts.to_csv(\"../Data/Processed/gifts_cleaned.csv\", index=False)"
   ]
  },
  {
   "cell_type": "code",
   "execution_count": 16,
   "id": "6b062259",
   "metadata": {},
   "outputs": [
    {
     "name": "stdout",
     "output_type": "stream",
     "text": [
      "Participants for campaign 6169:  34888 Participants for campaign 7274:  25645\n"
     ]
    }
   ],
   "source": [
    "#reading participants of both campaigns\n",
    "camp6169 = pd.read_csv('../data/camp6169.csv')\n",
    "camp7274= pd.read_csv('../data/camp7274.csv')\n",
    "#amount of participants\n",
    "print(\"Participants for campaign 6169: \", camp6169.shape[0], \"Participants for campaign 7274: \", camp7274.shape[0])"
   ]
  }
 ],
 "metadata": {
  "kernelspec": {
   "display_name": "Python 3 (ipykernel)",
   "language": "python",
   "name": "python3"
  },
  "language_info": {
   "codemirror_mode": {
    "name": "ipython",
    "version": 3
   },
   "file_extension": ".py",
   "mimetype": "text/x-python",
   "name": "python",
   "nbconvert_exporter": "python",
   "pygments_lexer": "ipython3",
   "version": "3.8.13"
  }
 },
 "nbformat": 4,
 "nbformat_minor": 5
}
